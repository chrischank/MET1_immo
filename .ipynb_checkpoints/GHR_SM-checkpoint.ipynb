{
 "cells": [
  {
   "cell_type": "markdown",
   "id": "9b71ae72-5467-49b3-85d8-8a62c4b8533a",
   "metadata": {},
   "source": [
    "# Geographically Weighted Hedonic Regression Model with mwgr for San Miguel"
   ]
  },
  {
   "cell_type": "code",
   "execution_count": 7,
   "id": "71ddd000-2908-4bb8-89fa-73d6bef07cf7",
   "metadata": {},
   "outputs": [],
   "source": [
    "import os\n",
    "import sys\n",
    "import mgwr\n",
    "import numpy as np\n",
    "import scipy as sp\n",
    "import pandas as pd\n",
    "import geopandas as gpd"
   ]
  },
  {
   "cell_type": "code",
   "execution_count": 9,
   "id": "b5d63b80-868a-4aaa-a2bf-06a33422d4e5",
   "metadata": {},
   "outputs": [],
   "source": [
    "os.chdir(\"/home/chris/Dropbox/RS_Project/RSSTARTUP_repo/Product_Dev/immo_model\")\n",
    "\n",
    "base_path = os.getcwd()\n",
    "figure_path = os.path.join(base_path, \"Figures\")\n",
    "vector_path = os.path.join(base_path, \"Vector\")\n",
    "raster_path = os.path.join(base_path, \"Raster\")"
   ]
  },
  {
   "cell_type": "markdown",
   "id": "1f353a52-d188-41c5-a226-c2ad73099d7b",
   "metadata": {},
   "source": [
    "## Load vector data for San Miguel"
   ]
  },
  {
   "cell_type": "code",
   "execution_count": 27,
   "id": "408ed6a9-4210-46aa-affd-bb43759b3179",
   "metadata": {},
   "outputs": [],
   "source": [
    "AOI_SM_bbox = gpd.read_file(\"Vector/AOI_SM.geojson\")\n",
    "AOI_SM_amyP = gpd.read_file(\"Vector/AOI_SM_amyPoints.geojson\")\n",
    "AOI_SM_lesP = gpd.read_file(\"Vector/AOI_SM_lesPoints.geojson\")\n",
    "AOI_SM_resP = gpd.read_file(\"Vector/AOI_SM_resPoints.geojson\")\n",
    "\n",
    "AOI_SM_Street = gpd.read_file(\"Vector/AOI_SM_Street.geojson\")"
   ]
  },
  {
   "cell_type": "code",
   "execution_count": 29,
   "id": "b39cef27-c841-45ca-bf2c-38290f5742e2",
   "metadata": {},
   "outputs": [],
   "source": [
    "assert AOI_SM_amyP.crs == AOI_SM_bbox.crs"
   ]
  },
  {
   "cell_type": "markdown",
   "id": "8069a18c-314c-43a2-ba19-75b0a34f0097",
   "metadata": {},
   "source": [
    "### Calculate distance for San Miguel"
   ]
  },
  {
   "cell_type": "code",
   "execution_count": 42,
   "id": "e616b52f-fa12-4568-97dc-2b73f50863ed",
   "metadata": {},
   "outputs": [
    {
     "ename": "IndentationError",
     "evalue": "expected an indented block (2231922190.py, line 12)",
     "output_type": "error",
     "traceback": [
      "\u001b[0;36m  File \u001b[0;32m\"/tmp/ipykernel_19113/2231922190.py\"\u001b[0;36m, line \u001b[0;32m12\u001b[0m\n\u001b[0;31m    return\u001b[0m\n\u001b[0m    ^\u001b[0m\n\u001b[0;31mIndentationError\u001b[0m\u001b[0;31m:\u001b[0m expected an indented block\n"
     ]
    }
   ],
   "source": [
    "def dist_calc(residential, target):\n",
    "    \"\"\"\n",
    "    This function calculates distance disntace between residential and target\n",
    "    Input for both must be gpd.GeoDataFrame.GeoSeries POINT\n",
    "    \"\"\"\n",
    "    assert residential.geometry.type == \"Point\"\n",
    "    assert target.geometry.type == \"Point\"\n",
    "    \n",
    "    dist = []\n",
    "    \n",
    "    for i in target:\n",
    "    \n",
    "    \n",
    "    return"
   ]
  },
  {
   "cell_type": "code",
   "execution_count": null,
   "id": "c60c67f4-3753-4959-b874-489c5b62ff64",
   "metadata": {},
   "outputs": [],
   "source": []
  }
 ],
 "metadata": {
  "kernelspec": {
   "display_name": "Python 3 (ipykernel)",
   "language": "python",
   "name": "python3"
  },
  "language_info": {
   "codemirror_mode": {
    "name": "ipython",
    "version": 3
   },
   "file_extension": ".py",
   "mimetype": "text/x-python",
   "name": "python",
   "nbconvert_exporter": "python",
   "pygments_lexer": "ipython3",
   "version": "3.9.7"
  }
 },
 "nbformat": 4,
 "nbformat_minor": 5
}
