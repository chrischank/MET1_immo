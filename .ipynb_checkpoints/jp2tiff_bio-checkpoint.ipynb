{
 "cells": [
  {
   "cell_type": "code",
   "execution_count": 15,
   "metadata": {},
   "outputs": [],
   "source": [
    "import os\n",
    "from class_funs import transform\n",
    "\n",
    "raster_path = os.path.abspath(\"C:/Users/Chris/Dropbox/EAGLE_Assessments/MET1_Model/MET1_immo/Raster\")\n"
   ]
  },
  {
   "cell_type": "code",
   "execution_count": 19,
   "metadata": {},
   "outputs": [
    {
     "name": "stdout",
     "output_type": "stream",
     "text": [
      "C:\\Users\\Chris\\Dropbox\\EAGLE_Assessments\\MET1_Model\\MET1_immo\\Raster\\MASK_S2A_MSIL2A_20210704T142731_N0301_R053_T19HCD_20210704T181414\n",
      "C:\\Users\\Chris\\Dropbox\\EAGLE_Assessments\\MET1_Model\\MET1_immo\\Raster\\MASK_S2A_MSIL2A_20210704T142731_N0301_R053_T19HCD_20210704T181414\\Mask_Level-2A_B01_60m\n",
      "The file is saved in: C:\\Users\\Chris\\Dropbox\\EAGLE_Assessments\\MET1_Model\\MET1_immo\\Raster\\MASK_S2A_MSIL2A_20210704T142731_N0301_R053_T19HCD_20210704T181414\\Mask_Level-2A_B01_60m.tif\n",
      "\n",
      "\n",
      "C:\\Users\\Chris\\Dropbox\\EAGLE_Assessments\\MET1_Model\\MET1_immo\\Raster\\MASK_S2A_MSIL2A_20210704T142731_N0301_R053_T19HCD_20210704T181414\\Mask_Level-2A_B02_10m\n",
      "The file is saved in: C:\\Users\\Chris\\Dropbox\\EAGLE_Assessments\\MET1_Model\\MET1_immo\\Raster\\MASK_S2A_MSIL2A_20210704T142731_N0301_R053_T19HCD_20210704T181414\\Mask_Level-2A_B02_10m.tif\n",
      "\n",
      "\n",
      "C:\\Users\\Chris\\Dropbox\\EAGLE_Assessments\\MET1_Model\\MET1_immo\\Raster\\MASK_S2A_MSIL2A_20210704T142731_N0301_R053_T19HCD_20210704T181414\\Mask_Level-2A_B03_10m\n",
      "The file is saved in: C:\\Users\\Chris\\Dropbox\\EAGLE_Assessments\\MET1_Model\\MET1_immo\\Raster\\MASK_S2A_MSIL2A_20210704T142731_N0301_R053_T19HCD_20210704T181414\\Mask_Level-2A_B03_10m.tif\n",
      "\n",
      "\n",
      "C:\\Users\\Chris\\Dropbox\\EAGLE_Assessments\\MET1_Model\\MET1_immo\\Raster\\MASK_S2A_MSIL2A_20210704T142731_N0301_R053_T19HCD_20210704T181414\\Mask_Level-2A_B04_10m\n",
      "The file is saved in: C:\\Users\\Chris\\Dropbox\\EAGLE_Assessments\\MET1_Model\\MET1_immo\\Raster\\MASK_S2A_MSIL2A_20210704T142731_N0301_R053_T19HCD_20210704T181414\\Mask_Level-2A_B04_10m.tif\n",
      "\n",
      "\n",
      "C:\\Users\\Chris\\Dropbox\\EAGLE_Assessments\\MET1_Model\\MET1_immo\\Raster\\MASK_S2A_MSIL2A_20210704T142731_N0301_R053_T19HCD_20210704T181414\\Mask_Level-2A_B05_20m\n",
      "The file is saved in: C:\\Users\\Chris\\Dropbox\\EAGLE_Assessments\\MET1_Model\\MET1_immo\\Raster\\MASK_S2A_MSIL2A_20210704T142731_N0301_R053_T19HCD_20210704T181414\\Mask_Level-2A_B05_20m.tif\n",
      "\n",
      "\n",
      "C:\\Users\\Chris\\Dropbox\\EAGLE_Assessments\\MET1_Model\\MET1_immo\\Raster\\MASK_S2A_MSIL2A_20210704T142731_N0301_R053_T19HCD_20210704T181414\\Mask_Level-2A_B06_20m\n",
      "The file is saved in: C:\\Users\\Chris\\Dropbox\\EAGLE_Assessments\\MET1_Model\\MET1_immo\\Raster\\MASK_S2A_MSIL2A_20210704T142731_N0301_R053_T19HCD_20210704T181414\\Mask_Level-2A_B06_20m.tif\n",
      "\n",
      "\n",
      "C:\\Users\\Chris\\Dropbox\\EAGLE_Assessments\\MET1_Model\\MET1_immo\\Raster\\MASK_S2A_MSIL2A_20210704T142731_N0301_R053_T19HCD_20210704T181414\\Mask_Level-2A_B07_20m\n",
      "The file is saved in: C:\\Users\\Chris\\Dropbox\\EAGLE_Assessments\\MET1_Model\\MET1_immo\\Raster\\MASK_S2A_MSIL2A_20210704T142731_N0301_R053_T19HCD_20210704T181414\\Mask_Level-2A_B07_20m.tif\n",
      "\n",
      "\n",
      "C:\\Users\\Chris\\Dropbox\\EAGLE_Assessments\\MET1_Model\\MET1_immo\\Raster\\MASK_S2A_MSIL2A_20210704T142731_N0301_R053_T19HCD_20210704T181414\\Mask_Level-2A_B08_10m\n",
      "The file is saved in: C:\\Users\\Chris\\Dropbox\\EAGLE_Assessments\\MET1_Model\\MET1_immo\\Raster\\MASK_S2A_MSIL2A_20210704T142731_N0301_R053_T19HCD_20210704T181414\\Mask_Level-2A_B08_10m.tif\n",
      "\n",
      "\n",
      "C:\\Users\\Chris\\Dropbox\\EAGLE_Assessments\\MET1_Model\\MET1_immo\\Raster\\MASK_S2A_MSIL2A_20210704T142731_N0301_R053_T19HCD_20210704T181414\\Mask_Level-2A_B09_60m\n",
      "The file is saved in: C:\\Users\\Chris\\Dropbox\\EAGLE_Assessments\\MET1_Model\\MET1_immo\\Raster\\MASK_S2A_MSIL2A_20210704T142731_N0301_R053_T19HCD_20210704T181414\\Mask_Level-2A_B09_60m.tif\n",
      "\n",
      "\n",
      "C:\\Users\\Chris\\Dropbox\\EAGLE_Assessments\\MET1_Model\\MET1_immo\\Raster\\MASK_S2A_MSIL2A_20210704T142731_N0301_R053_T19HCD_20210704T181414\\Mask_Level-2A_B11_20m\n",
      "The file is saved in: C:\\Users\\Chris\\Dropbox\\EAGLE_Assessments\\MET1_Model\\MET1_immo\\Raster\\MASK_S2A_MSIL2A_20210704T142731_N0301_R053_T19HCD_20210704T181414\\Mask_Level-2A_B11_20m.tif\n",
      "\n",
      "\n",
      "C:\\Users\\Chris\\Dropbox\\EAGLE_Assessments\\MET1_Model\\MET1_immo\\Raster\\MASK_S2A_MSIL2A_20210704T142731_N0301_R053_T19HCD_20210704T181414\\Mask_Level-2A_B12_20m\n",
      "The file is saved in: C:\\Users\\Chris\\Dropbox\\EAGLE_Assessments\\MET1_Model\\MET1_immo\\Raster\\MASK_S2A_MSIL2A_20210704T142731_N0301_R053_T19HCD_20210704T181414\\Mask_Level-2A_B12_20m.tif\n",
      "\n",
      "\n",
      "C:\\Users\\Chris\\Dropbox\\EAGLE_Assessments\\MET1_Model\\MET1_immo\\Raster\\MASK_S2A_MSIL2A_20210704T142731_N0301_R053_T19HCD_20210704T181414\\Mask_Level-2A_B8A_20m\n",
      "The file is saved in: C:\\Users\\Chris\\Dropbox\\EAGLE_Assessments\\MET1_Model\\MET1_immo\\Raster\\MASK_S2A_MSIL2A_20210704T142731_N0301_R053_T19HCD_20210704T181414\\Mask_Level-2A_B8A_20m.tif\n",
      "\n",
      "\n"
     ]
    }
   ],
   "source": [
    "for path, dirname, filename in os.walk(os.path.join(raster_path, \"MASK_S2A_MSIL2A_20210704T142731_N0301_R053_T19HCD_20210704T181414\")):\n",
    "    print(path)\n",
    "    for i in filename:\n",
    "        if \".jp2\" in i:\n",
    "            transform.jp2tiff(os.path.join(path, i))"
   ]
  },
  {
   "cell_type": "code",
   "execution_count": null,
   "metadata": {},
   "outputs": [],
   "source": []
  }
 ],
 "metadata": {
  "kernelspec": {
   "display_name": "Python 3",
   "language": "python",
   "name": "python3"
  },
  "language_info": {
   "codemirror_mode": {
    "name": "ipython",
    "version": 3
   },
   "file_extension": ".py",
   "mimetype": "text/x-python",
   "name": "python",
   "nbconvert_exporter": "python",
   "pygments_lexer": "ipython3",
   "version": "3.7.8"
  }
 },
 "nbformat": 4,
 "nbformat_minor": 4
}
